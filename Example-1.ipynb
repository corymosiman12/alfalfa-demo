{
 "cells": [
  {
   "cell_type": "markdown",
   "id": "ef3a1379",
   "metadata": {},
   "source": [
    "# Simple Alfalfa Example\n",
    "\n",
    "## Setup\n",
    "1. Alfalfa stack deployed locally\n",
    "1. Worker scaled to 2 services\n",
    "\n",
    "## TODO\n",
    "1. Create client\n",
    "1. Upload models\n",
    "1. Start"
   ]
  },
  {
   "cell_type": "code",
   "execution_count": 2,
   "id": "4f3f4824",
   "metadata": {},
   "outputs": [],
   "source": [
    "import os\n",
    "import datetime\n",
    "from alfalfa_client.alfalfa_client import AlfalfaClient"
   ]
  },
  {
   "cell_type": "code",
   "execution_count": 3,
   "id": "b54bc6ba",
   "metadata": {},
   "outputs": [],
   "source": [
    "# create a new client\n",
    "ac = AlfalfaClient(url='http://localhost')"
   ]
  },
  {
   "cell_type": "code",
   "execution_count": 9,
   "id": "d1e360c2",
   "metadata": {},
   "outputs": [],
   "source": [
    "# define the file to upload\n",
    "so_model = 'small_office.osm'\n",
    "mo_model = 'medium_office.zip'"
   ]
  },
  {
   "cell_type": "code",
   "execution_count": 10,
   "id": "a2efe520",
   "metadata": {},
   "outputs": [
    {
     "name": "stdout",
     "output_type": "stream",
     "text": [
      "Desired status: Stopped\t\tCurrent status: \n",
      "Desired status: Stopped\t\tCurrent status: Stopped\n",
      "Desired status: Stopped\t\tCurrent status: \n",
      "Desired status: Stopped\t\tCurrent status: \n",
      "Desired status: Stopped\t\tCurrent status: \n",
      "Desired status: Stopped\t\tCurrent status: Stopped\n"
     ]
    }
   ],
   "source": [
    "# upload models to alfalfa\n",
    "so_model_id = ac.submit(so_model)\n",
    "mo_model_id = ac.submit(mo_model)"
   ]
  },
  {
   "cell_type": "code",
   "execution_count": 6,
   "id": "77a7e9e5",
   "metadata": {},
   "outputs": [
    {
     "name": "stdout",
     "output_type": "stream",
     "text": [
      "5683a3cc-9803-11eb-9ee9-a820664f8e14\n",
      "5bef5c16-9803-11eb-9ee9-a820664f8e14\n"
     ]
    }
   ],
   "source": [
    "print(so_model_id)\n",
    "print(mo_model_id)"
   ]
  },
  {
   "cell_type": "code",
   "execution_count": 11,
   "id": "bfa06a09",
   "metadata": {},
   "outputs": [],
   "source": [
    "# define the run parameters\n",
    "start_dt = datetime.datetime(2019, 1, 2, 0, 2, 0)\n",
    "end_dt = datetime.datetime(2019, 1, 3, 0, 0, 0)\n",
    "\n",
    "# we will run with an 'external clock', i.e. we control the simulation advance\n",
    "params = {\n",
    "    \"external_clock\": \"true\",\n",
    "    \"start_datetime\": start_dt,\n",
    "    \"end_datetime\": end_dt\n",
    "}"
   ]
  },
  {
   "cell_type": "code",
   "execution_count": 12,
   "id": "b7e30b8e",
   "metadata": {},
   "outputs": [
    {
     "name": "stdout",
     "output_type": "stream",
     "text": [
      "Desired status: Running\t\tCurrent status: Starting\n",
      "Desired status: Running\t\tCurrent status: Starting\n",
      "Desired status: Running\t\tCurrent status: Running\n",
      "Desired status: Running\t\tCurrent status: Starting\n",
      "Desired status: Running\t\tCurrent status: Starting\n",
      "Desired status: Running\t\tCurrent status: Starting\n",
      "Desired status: Running\t\tCurrent status: Starting\n",
      "Desired status: Running\t\tCurrent status: Starting\n",
      "Desired status: Running\t\tCurrent status: Starting\n",
      "Desired status: Running\t\tCurrent status: Starting\n",
      "Desired status: Running\t\tCurrent status: Starting\n",
      "Desired status: Running\t\tCurrent status: Starting\n",
      "Desired status: Running\t\tCurrent status: Starting\n",
      "Desired status: Running\t\tCurrent status: Starting\n",
      "Desired status: Running\t\tCurrent status: Starting\n",
      "Desired status: Running\t\tCurrent status: Starting\n",
      "Desired status: Running\t\tCurrent status: Starting\n",
      "Desired status: Running\t\tCurrent status: Starting\n",
      "Desired status: Running\t\tCurrent status: Starting\n",
      "Desired status: Running\t\tCurrent status: Starting\n",
      "Desired status: Running\t\tCurrent status: Starting\n",
      "Desired status: Running\t\tCurrent status: Starting\n"
     ]
    },
    {
     "ename": "KeyboardInterrupt",
     "evalue": "",
     "output_type": "error",
     "traceback": [
      "\u001b[0;31m---------------------------------------------------------------------------\u001b[0m",
      "\u001b[0;31mKeyboardInterrupt\u001b[0m                         Traceback (most recent call last)",
      "\u001b[0;32m<ipython-input-12-2beb487d7a1f>\u001b[0m in \u001b[0;36m<module>\u001b[0;34m\u001b[0m\n\u001b[1;32m      1\u001b[0m \u001b[0;31m# start simulations\u001b[0m\u001b[0;34m\u001b[0m\u001b[0;34m\u001b[0m\u001b[0;34m\u001b[0m\u001b[0m\n\u001b[1;32m      2\u001b[0m \u001b[0mac\u001b[0m\u001b[0;34m.\u001b[0m\u001b[0mstart\u001b[0m\u001b[0;34m(\u001b[0m\u001b[0mso_model_id\u001b[0m\u001b[0;34m,\u001b[0m \u001b[0;34m**\u001b[0m\u001b[0mparams\u001b[0m\u001b[0;34m)\u001b[0m\u001b[0;34m\u001b[0m\u001b[0;34m\u001b[0m\u001b[0m\n\u001b[0;32m----> 3\u001b[0;31m \u001b[0mac\u001b[0m\u001b[0;34m.\u001b[0m\u001b[0mstart\u001b[0m\u001b[0;34m(\u001b[0m\u001b[0mmo_model_id\u001b[0m\u001b[0;34m,\u001b[0m \u001b[0;34m**\u001b[0m\u001b[0mparams\u001b[0m\u001b[0;34m)\u001b[0m\u001b[0;34m\u001b[0m\u001b[0;34m\u001b[0m\u001b[0m\n\u001b[0m",
      "\u001b[0;32m~/Downloads/alfalfa-demo/.venv/lib/python3.7/site-packages/alfalfa_client/alfalfa_client.py\u001b[0m in \u001b[0;36mstart\u001b[0;34m(self, site_id, **kwargs)\u001b[0m\n\u001b[1;32m     74\u001b[0m     \u001b[0;32mdef\u001b[0m \u001b[0mstart\u001b[0m\u001b[0;34m(\u001b[0m\u001b[0mself\u001b[0m\u001b[0;34m,\u001b[0m \u001b[0msite_id\u001b[0m\u001b[0;34m,\u001b[0m \u001b[0;34m**\u001b[0m\u001b[0mkwargs\u001b[0m\u001b[0;34m)\u001b[0m\u001b[0;34m:\u001b[0m\u001b[0;34m\u001b[0m\u001b[0;34m\u001b[0m\u001b[0m\n\u001b[1;32m     75\u001b[0m         \u001b[0margs\u001b[0m \u001b[0;34m=\u001b[0m \u001b[0;34m{\u001b[0m\u001b[0;34m\"url\"\u001b[0m\u001b[0;34m:\u001b[0m \u001b[0mself\u001b[0m\u001b[0;34m.\u001b[0m\u001b[0murl\u001b[0m\u001b[0;34m,\u001b[0m \u001b[0;34m\"site_id\"\u001b[0m\u001b[0;34m:\u001b[0m \u001b[0msite_id\u001b[0m\u001b[0;34m,\u001b[0m \u001b[0;34m\"kwargs\"\u001b[0m\u001b[0;34m:\u001b[0m \u001b[0mkwargs\u001b[0m\u001b[0;34m}\u001b[0m\u001b[0;34m\u001b[0m\u001b[0;34m\u001b[0m\u001b[0m\n\u001b[0;32m---> 76\u001b[0;31m         \u001b[0;32mreturn\u001b[0m \u001b[0mstart_one\u001b[0m\u001b[0;34m(\u001b[0m\u001b[0margs\u001b[0m\u001b[0;34m)\u001b[0m\u001b[0;34m\u001b[0m\u001b[0;34m\u001b[0m\u001b[0m\n\u001b[0m\u001b[1;32m     77\u001b[0m \u001b[0;34m\u001b[0m\u001b[0m\n\u001b[1;32m     78\u001b[0m     \u001b[0;31m# Start a simulation for model identified by id. The id should corrsespond to\u001b[0m\u001b[0;34m\u001b[0m\u001b[0;34m\u001b[0m\u001b[0;34m\u001b[0m\u001b[0m\n",
      "\u001b[0;32m~/Downloads/alfalfa-demo/.venv/lib/python3.7/site-packages/alfalfa_client/lib.py\u001b[0m in \u001b[0;36mstart_one\u001b[0;34m(args)\u001b[0m\n\u001b[1;32m    173\u001b[0m             \u001b[0mprint\u001b[0m\u001b[0;34m(\u001b[0m\u001b[0;34mf\"start_one error: {response.content}\"\u001b[0m\u001b[0;34m)\u001b[0m\u001b[0;34m\u001b[0m\u001b[0;34m\u001b[0m\u001b[0m\n\u001b[1;32m    174\u001b[0m \u001b[0;34m\u001b[0m\u001b[0m\n\u001b[0;32m--> 175\u001b[0;31m     \u001b[0mwait\u001b[0m\u001b[0;34m(\u001b[0m\u001b[0murl\u001b[0m\u001b[0;34m,\u001b[0m \u001b[0msite_id\u001b[0m\u001b[0;34m,\u001b[0m \u001b[0;34m\"Running\"\u001b[0m\u001b[0;34m)\u001b[0m\u001b[0;34m\u001b[0m\u001b[0;34m\u001b[0m\u001b[0m\n\u001b[0m\u001b[1;32m    176\u001b[0m \u001b[0;34m\u001b[0m\u001b[0m\n\u001b[1;32m    177\u001b[0m \u001b[0;34m\u001b[0m\u001b[0m\n",
      "\u001b[0;32m~/Downloads/alfalfa-demo/.venv/lib/python3.7/site-packages/alfalfa_client/lib.py\u001b[0m in \u001b[0;36mwait\u001b[0;34m(url, siteref, desired_status)\u001b[0m\n\u001b[1;32m     94\u001b[0m         \u001b[0;32melif\u001b[0m \u001b[0mcurrent_status\u001b[0m\u001b[0;34m:\u001b[0m\u001b[0;34m\u001b[0m\u001b[0;34m\u001b[0m\u001b[0m\n\u001b[1;32m     95\u001b[0m             \u001b[0;32mbreak\u001b[0m\u001b[0;34m\u001b[0m\u001b[0;34m\u001b[0m\u001b[0m\n\u001b[0;32m---> 96\u001b[0;31m         \u001b[0mtime\u001b[0m\u001b[0;34m.\u001b[0m\u001b[0msleep\u001b[0m\u001b[0;34m(\u001b[0m\u001b[0;36m2\u001b[0m\u001b[0;34m)\u001b[0m\u001b[0;34m\u001b[0m\u001b[0;34m\u001b[0m\u001b[0m\n\u001b[0m\u001b[1;32m     97\u001b[0m \u001b[0;34m\u001b[0m\u001b[0m\n\u001b[1;32m     98\u001b[0m \u001b[0;34m\u001b[0m\u001b[0m\n",
      "\u001b[0;31mKeyboardInterrupt\u001b[0m: "
     ]
    }
   ],
   "source": [
    "# start simulations\n",
    "ac.start(so_model_id, **params)\n",
    "ac.start(mo_model_id, **params)"
   ]
  },
  {
   "cell_type": "code",
   "execution_count": 32,
   "id": "e3e1f4f8",
   "metadata": {},
   "outputs": [],
   "source": [
    "# advance both models a single time step\n",
    "ac.advance([so_model_id, mo_model_id])"
   ]
  },
  {
   "cell_type": "code",
   "execution_count": 44,
   "id": "36aaf527",
   "metadata": {},
   "outputs": [
    {
     "name": "stdout",
     "output_type": "stream",
     "text": [
      "Desired status: Stopped\t\tCurrent status: Stopped\n",
      "Desired status: Stopped\t\tCurrent status: Stopped\n"
     ]
    }
   ],
   "source": [
    "# stop the models\n",
    "ac.stop(model_id1)\n",
    "ac.stop(model_id2)"
   ]
  },
  {
   "cell_type": "code",
   "execution_count": null,
   "id": "ca2b69a6",
   "metadata": {},
   "outputs": [],
   "source": []
  }
 ],
 "metadata": {
  "kernelspec": {
   "display_name": "Python 3",
   "language": "python",
   "name": "python3"
  },
  "language_info": {
   "codemirror_mode": {
    "name": "ipython",
    "version": 3
   },
   "file_extension": ".py",
   "mimetype": "text/x-python",
   "name": "python",
   "nbconvert_exporter": "python",
   "pygments_lexer": "ipython3",
   "version": "3.7.4"
  }
 },
 "nbformat": 4,
 "nbformat_minor": 5
}
