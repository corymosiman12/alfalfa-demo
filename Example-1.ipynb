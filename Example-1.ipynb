{
 "cells": [
  {
   "cell_type": "markdown",
   "id": "7d48135a",
   "metadata": {},
   "source": [
    "# Simple Alfalfa Example\n",
    "\n",
    "## Setup\n",
    "1. Alfalfa stack deployed locally\n",
    "1. Worker scaled to 2 services\n",
    "1. Energy models created from 'CreateDOEPrototypeBuilding' measure for both Small Office and Retail Standalone:\n",
    "    1. ASHRAE 90.1-2010\n",
    "    1. CZ 2A\n",
    "    1. Careful when using OS 1.1.0 App and OS 3.1.0, need to change `OS:SimulationControl` > `Do HVAC Sizing Simulation for Sizing Periods` from 'Yes' to 'No'\n",
    "\n",
    "## Using the Alfalfa Client\n",
    "1. Create client\n",
    "1. Upload models\n",
    "1. Start"
   ]
  },
  {
   "cell_type": "code",
   "execution_count": 8,
   "id": "8c946e1a",
   "metadata": {},
   "outputs": [],
   "source": [
    "import os\n",
    "import datetime\n",
    "from alfalfa_client.alfalfa_client import AlfalfaClient"
   ]
  },
  {
   "cell_type": "code",
   "execution_count": 9,
   "id": "00ed4d55",
   "metadata": {},
   "outputs": [],
   "source": [
    "# create a new client\n",
    "ac = AlfalfaClient(url='http://localhost')"
   ]
  },
  {
   "cell_type": "code",
   "execution_count": 10,
   "id": "43e1c3c3",
   "metadata": {},
   "outputs": [],
   "source": [
    "# define the file to upload\n",
    "so_model = 'small_office.osm'\n",
    "rs_model = 'retail_standalone.osm'"
   ]
  },
  {
   "cell_type": "code",
   "execution_count": 11,
   "id": "3cf3ce80",
   "metadata": {},
   "outputs": [
    {
     "name": "stdout",
     "output_type": "stream",
     "text": [
      "Desired status: Stopped\t\tCurrent status: \n",
      "Desired status: Stopped\t\tCurrent status: Stopped\n",
      "Desired status: Stopped\t\tCurrent status: \n",
      "Desired status: Stopped\t\tCurrent status: Stopped\n"
     ]
    }
   ],
   "source": [
    "# upload models to alfalfa\n",
    "so_model_id = ac.submit(so_model)\n",
    "rs_model_id = ac.submit(rs_model)"
   ]
  },
  {
   "cell_type": "code",
   "execution_count": 14,
   "id": "b2e568f2",
   "metadata": {},
   "outputs": [
    {
     "name": "stdout",
     "output_type": "stream",
     "text": [
      "01db9bfa-989d-11eb-bb89-a820664f8e14\n",
      "05fd8676-989d-11eb-bb89-a820664f8e14\n"
     ]
    }
   ],
   "source": [
    "print(so_model_id)\n",
    "print(rs_model_id)"
   ]
  },
  {
   "cell_type": "code",
   "execution_count": 12,
   "id": "a86568fb",
   "metadata": {},
   "outputs": [],
   "source": [
    "# define the run parameters\n",
    "start_dt = datetime.datetime(2019, 1, 2, 0, 2, 0)\n",
    "end_dt = datetime.datetime(2019, 1, 3, 0, 0, 0)\n",
    "\n",
    "# we will run with an 'external clock', i.e. we control the simulation advance\n",
    "params = {\n",
    "    \"external_clock\": \"true\",\n",
    "    \"start_datetime\": start_dt,\n",
    "    \"end_datetime\": end_dt\n",
    "}"
   ]
  },
  {
   "cell_type": "code",
   "execution_count": 13,
   "id": "6e7572ce",
   "metadata": {},
   "outputs": [
    {
     "name": "stdout",
     "output_type": "stream",
     "text": [
      "Desired status: Running\t\tCurrent status: Starting\n",
      "Desired status: Running\t\tCurrent status: Starting\n",
      "Desired status: Running\t\tCurrent status: Starting\n",
      "Desired status: Running\t\tCurrent status: Starting\n",
      "Desired status: Running\t\tCurrent status: Starting\n",
      "Desired status: Running\t\tCurrent status: Starting\n",
      "Desired status: Running\t\tCurrent status: Starting\n"
     ]
    }
   ],
   "source": [
    "# start simulations\n",
    "ac.start(so_model_id, **params)\n",
    "ac.start(rs_model_id, **params)"
   ]
  },
  {
   "cell_type": "code",
   "execution_count": 28,
   "id": "3afd72c8",
   "metadata": {},
   "outputs": [],
   "source": [
    "# advance both models a single time step\n",
    "ac.advance([so_model_id, rs_model_id])"
   ]
  },
  {
   "cell_type": "code",
   "execution_count": 29,
   "id": "37082e4f",
   "metadata": {},
   "outputs": [
    {
     "name": "stdout",
     "output_type": "stream",
     "text": [
      "Desired status: Stopped\t\tCurrent status: Stopped\n",
      "Desired status: Stopped\t\tCurrent status: Stopped\n"
     ]
    }
   ],
   "source": [
    "# stop the models\n",
    "ac.stop(so_model_id)\n",
    "ac.stop(rs_model_id)"
   ]
  },
  {
   "cell_type": "code",
   "execution_count": null,
   "id": "d75a4329",
   "metadata": {},
   "outputs": [],
   "source": []
  }
 ],
 "metadata": {
  "kernelspec": {
   "display_name": "Python 3",
   "language": "python",
   "name": "python3"
  },
  "language_info": {
   "codemirror_mode": {
    "name": "ipython",
    "version": 3
   },
   "file_extension": ".py",
   "mimetype": "text/x-python",
   "name": "python",
   "nbconvert_exporter": "python",
   "pygments_lexer": "ipython3",
   "version": "3.7.4"
  }
 },
 "nbformat": 4,
 "nbformat_minor": 5
}
